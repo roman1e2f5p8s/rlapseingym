{
 "cells": [
  {
   "cell_type": "markdown",
   "id": "30edf181",
   "metadata": {},
   "source": [
    "This notebook provides a few examples of how to use the [rlapse](https://github.com/roman1e2f5p8s/rlapseingym) package. More examples can be found [here](https://github.com/roman1e2f5p8s/rlapseingym/tree/master/examples)."
   ]
  },
  {
   "cell_type": "code",
   "execution_count": 12,
   "id": "24f8afa0",
   "metadata": {},
   "outputs": [],
   "source": [
    "import numpy as np\n",
    "import matplotlib.pyplot as plt\n",
    "\n",
    "%matplotlib inline"
   ]
  },
  {
   "cell_type": "markdown",
   "id": "7df6c45a",
   "metadata": {},
   "source": [
    "Import available reinforcement learning (RL) algorithms:"
   ]
  },
  {
   "cell_type": "code",
   "execution_count": 13,
   "id": "372e4cfa",
   "metadata": {},
   "outputs": [],
   "source": [
    "from rlapse.algorithms.qlearning import Qlearner\n",
    "from rlapse.algorithms.rlapse import RLAPSE"
   ]
  },
  {
   "cell_type": "markdown",
   "id": "dcaee566",
   "metadata": {},
   "source": [
    "Import additional utilities to compute the optimal policy and expected reward:"
   ]
  },
  {
   "cell_type": "code",
   "execution_count": 14,
   "id": "675b8e91",
   "metadata": {},
   "outputs": [],
   "source": [
    "from rlapse.utils.infhmdp import ValueIteration, expected_reward"
   ]
  },
  {
   "cell_type": "markdown",
   "id": "f73f21c6",
   "metadata": {},
   "source": [
    "### Restaurant example"
   ]
  },
  {
   "cell_type": "markdown",
   "id": "ca4f85e0",
   "metadata": {},
   "source": [
    "We will start with a small toy example, namely the restaurant example (see README.md [here](https://github.com/roman1e2f5p8s/rlapseingym) for details):"
   ]
  },
  {
   "cell_type": "code",
   "execution_count": 15,
   "id": "b0d92baf",
   "metadata": {},
   "outputs": [],
   "source": [
    "from rlapse.mdps.mdp import RestaurantMDP"
   ]
  },
  {
   "cell_type": "markdown",
   "id": "09f713d7",
   "metadata": {},
   "source": [
    "For reproducibility:"
   ]
  },
  {
   "cell_type": "code",
   "execution_count": 16,
   "id": "1f091214",
   "metadata": {},
   "outputs": [],
   "source": [
    "SEED = 32\n",
    "np.random.seed(seed=SEED)"
   ]
  },
  {
   "cell_type": "markdown",
   "id": "f7afd8c2",
   "metadata": {},
   "source": [
    "This will generate an MDP for the restaurant example with $\\epsilon=0.2$ and validate it:"
   ]
  },
  {
   "cell_type": "code",
   "execution_count": 17,
   "id": "f3310800",
   "metadata": {},
   "outputs": [
    {
     "data": {
      "text/plain": [
       "RestaurantMDP(states=[State(There_is_no_wait_in_GR, 0, False), State(There_is_a_wait_in_GR, 1, False)], actions=[Action(Send_user_to_GR, 0), Action(Send_user_to_BR, 1)], state_outcomes={(State(There_is_no_wait_in_GR, 0, False), Action(Send_user_to_GR, 0)): [NextState(State(There_is_no_wait_in_GR, 0, False), 0.2), NextState(State(There_is_a_wait_in_GR, 1, False), 0.8)], (State(There_is_a_wait_in_GR, 1, False), Action(Send_user_to_GR, 0)): [NextState(State(There_is_no_wait_in_GR, 0, False), 0.2), NextState(State(There_is_a_wait_in_GR, 1, False), 0.8)], (State(There_is_no_wait_in_GR, 0, False), Action(Send_user_to_BR, 1)): [NextState(State(There_is_no_wait_in_GR, 0, False), 0.8), NextState(State(There_is_a_wait_in_GR, 1, False), 0.2)], (State(There_is_a_wait_in_GR, 1, False), Action(Send_user_to_BR, 1)): [NextState(State(There_is_no_wait_in_GR, 0, False), 0.8), NextState(State(There_is_a_wait_in_GR, 1, False), 0.2)]}, reward_outcomes={(State(There_is_no_wait_in_GR, 0, False), Action(Send_user_to_GR, 0)): [Reward(15.0, 1.0)], (State(There_is_a_wait_in_GR, 1, False), Action(Send_user_to_GR, 0)): [Reward(2.0, 1.0)], (State(There_is_no_wait_in_GR, 0, False), Action(Send_user_to_BR, 1)): [Reward(1.0, 1.0)], (State(There_is_a_wait_in_GR, 1, False), Action(Send_user_to_BR, 1)): [Reward(1.0, 1.0)]})"
      ]
     },
     "execution_count": 17,
     "metadata": {},
     "output_type": "execute_result"
    }
   ],
   "source": [
    "mdp = RestaurantMDP(epsilon=0.2)\n",
    "mdp.validate()"
   ]
  },
  {
   "cell_type": "markdown",
   "id": "6c7f5b72",
   "metadata": {},
   "source": [
    "We can now look at the transition probabilities $P$ and the reward $R$:"
   ]
  },
  {
   "cell_type": "code",
   "execution_count": 18,
   "id": "99428060",
   "metadata": {},
   "outputs": [
    {
     "name": "stdout",
     "output_type": "stream",
     "text": [
      "P:\n",
      " [[[0.2 0.8]\n",
      "  [0.2 0.8]]\n",
      "\n",
      " [[0.8 0.2]\n",
      "  [0.8 0.2]]]\n",
      "R:\n",
      " [[15.  1.]\n",
      " [ 2.  1.]]\n"
     ]
    }
   ],
   "source": [
    "print('P:\\n', mdp.P)\n",
    "print('R:\\n', mdp.R)"
   ]
  },
  {
   "cell_type": "markdown",
   "id": "34da360e",
   "metadata": {},
   "source": [
    "Using [this framework](https://github.com/BlackHC/mdp), it is easy to convert the MDP to an OpenAI Gym environment:"
   ]
  },
  {
   "cell_type": "code",
   "execution_count": 19,
   "id": "a8c567c4",
   "metadata": {},
   "outputs": [
    {
     "name": "stdout",
     "output_type": "stream",
     "text": [
      "Discrete(2)\n",
      "Discrete(2)\n"
     ]
    }
   ],
   "source": [
    "env = mdp.to_env()\n",
    "print(env.observation_space)\n",
    "print(env.action_space)"
   ]
  },
  {
   "cell_type": "markdown",
   "id": "f0c4b983",
   "metadata": {},
   "source": [
    "We can also visualize this environment:"
   ]
  },
  {
   "cell_type": "code",
   "execution_count": 20,
   "id": "a3ce1247",
   "metadata": {},
   "outputs": [
    {
     "data": {
      "application/vnd.jupyter.widget-view+json": {
       "model_id": "63dfaebfb5aa41adb7145aed9eb88902",
       "version_major": 2,
       "version_minor": 0
      },
      "text/plain": [
       "Image(value=b'')"
      ]
     },
     "metadata": {},
     "output_type": "display_data"
    }
   ],
   "source": [
    "env.render()"
   ]
  },
  {
   "cell_type": "markdown",
   "id": "6ef4e440",
   "metadata": {},
   "source": [
    "For reproducibility:"
   ]
  },
  {
   "cell_type": "code",
   "execution_count": 9,
   "id": "7a5b8aa0",
   "metadata": {},
   "outputs": [],
   "source": [
    "env.observation_space.seed(SEED);\n",
    "env.action_space.seed(SEED);"
   ]
  },
  {
   "cell_type": "markdown",
   "id": "40b37bb0",
   "metadata": {},
   "source": [
    "Set the total number of time steps to learn, $T$, and time step at which to start the orchestrator, $T_0$:"
   ]
  },
  {
   "cell_type": "code",
   "execution_count": 10,
   "id": "1372079d",
   "metadata": {},
   "outputs": [],
   "source": [
    "T = 200\n",
    "T0 = 10 * env.observation_space.n**2 * env.action_space.n\n",
    "# you can also use the following:\n",
    "# T0 = 10 * mdp.n_states**2 * mdp.n_actions"
   ]
  },
  {
   "cell_type": "markdown",
   "id": "39e88341",
   "metadata": {},
   "source": [
    "We can now initialize the algorithms:"
   ]
  },
  {
   "cell_type": "code",
   "execution_count": 11,
   "id": "7c5e099e",
   "metadata": {},
   "outputs": [],
   "source": [
    "a0 = Qlearner(env, gamma=0.0)         # Q-learning with gamma 0.0\n",
    "a1 = Qlearner(env, gamma=0.9)         # Q-learning with gamma 0.9\n",
    "rl = RLAPSE(env, a0, a1, t_start=T0)  # RLAPSE"
   ]
  },
  {
   "cell_type": "markdown",
   "id": "fb54bb59",
   "metadata": {},
   "source": [
    "Learn a policy from the environment:"
   ]
  },
  {
   "cell_type": "code",
   "execution_count": 12,
   "id": "216535de",
   "metadata": {},
   "outputs": [],
   "source": [
    "a0.learn(total_timesteps=T, store_estimated_reward=True)\n",
    "a1.learn(total_timesteps=T, store_estimated_reward=True)\n",
    "rl.learn(total_timesteps=T, store_estimated_reward=True)"
   ]
  },
  {
   "cell_type": "markdown",
   "id": "eb998e2d",
   "metadata": {},
   "source": [
    "For visualization purpose, we would like to save the estimated reward by each of the algorithms at every time step. This can be achieved by setting the flag `store_estimated_reward` to `True` in the `learn` method of the algorithms. Additionlly, the reward collected by the RL agent at each time step can also be stored by setting the keyword argument `store_reward` to `True`, and the progress of the learning process can be controlled with the flag `verbose`. The argument `total_timesteps` in the `learn` method is positional."
   ]
  },
  {
   "cell_type": "markdown",
   "id": "5402c0e0",
   "metadata": {},
   "source": [
    "We use the `predict` method to predict the action given an observation (i.e. state):"
   ]
  },
  {
   "cell_type": "code",
   "execution_count": 13,
   "id": "a4123c0e",
   "metadata": {},
   "outputs": [
    {
     "name": "stdout",
     "output_type": "stream",
     "text": [
      "Predicted action by   : | a0              | a1              | rl             \n",
      "Observation:\n",
      "There_is_no_wait_in_GR: | Send_user_to_GR | Send_user_to_GR | Send_user_to_GR\n",
      "There_is_a_wait_in_GR : | Send_user_to_GR | Send_user_to_BR | Send_user_to_BR\n"
     ]
    }
   ],
   "source": [
    "print('{:22s}: | {:15s} | {:15s} | {:15s}'.format('Predicted action by', 'a0', 'a1', 'rl'))\n",
    "print('Observation:')\n",
    "for observation in env.mdp.states:\n",
    "    action_a0, _ = a0.predict(observation)\n",
    "    action_a1, _ = a1.predict(observation)\n",
    "    action_rl, _ = rl.predict(observation)\n",
    "    print('{:22s}: | {:15s} | {:15s} | {:15s}'.format(observation.name, action_a0.name, action_a1.name, action_rl.name))"
   ]
  },
  {
   "cell_type": "markdown",
   "id": "08716461",
   "metadata": {},
   "source": [
    "The design of the `learn` and `predict` methods is inspired from [Stable Baselines](https://stable-baselines.readthedocs.io/en/master/modules/base.html)."
   ]
  },
  {
   "cell_type": "markdown",
   "id": "5d00452b",
   "metadata": {},
   "source": [
    "Use the value iteration algorithm to compute the optimal policy:"
   ]
  },
  {
   "cell_type": "code",
   "execution_count": 14,
   "id": "2dad1c74",
   "metadata": {},
   "outputs": [],
   "source": [
    "VI = ValueIteration(R=env.mdp.R, P=env.mdp.P)\n",
    "OPTIMAL_POLICY = VI.policy\n",
    "OPTIMAL_REWARD = expected_reward(R=env.mdp.R, P=env.mdp.P, policy=OPTIMAL_POLICY)"
   ]
  },
  {
   "cell_type": "markdown",
   "id": "b752e769",
   "metadata": {},
   "source": [
    "Print the results:"
   ]
  },
  {
   "cell_type": "code",
   "execution_count": 15,
   "id": "6d8c36ad",
   "metadata": {},
   "outputs": [
    {
     "name": "stdout",
     "output_type": "stream",
     "text": [
      "Expected reward:\n",
      "\toptimal:         8.0000\n",
      "\testimated by a0: 4.6000\n",
      "\testimated by a1: 8.0000\n",
      "\testimated by rl: 8.0000\n",
      "rl switching counts:\n",
      "\tto a0: 32\n",
      "\tto a1: 88\n"
     ]
    }
   ],
   "source": [
    "print('Expected reward:')\n",
    "print('\\toptimal:         {:.4f}'.format(OPTIMAL_REWARD))\n",
    "print('\\testimated by a0: {:.4f}'.format(a0.estimated_reward[-1]))\n",
    "print('\\testimated by a1: {:.4f}'.format(a1.estimated_reward[-1]))\n",
    "print('\\testimated by rl: {:.4f}'.format(rl.estimated_reward[-1]))\n",
    "print('rl switching counts:')\n",
    "print('\\tto a0: {}'.format(rl.a0_count))\n",
    "print('\\tto a1: {}'.format(rl.a1_count))"
   ]
  },
  {
   "cell_type": "markdown",
   "id": "e14a37af",
   "metadata": {},
   "source": [
    "As it can be seen, for this controlled MDP, the RLAPSE successfully swithed to algorithm `a1`."
   ]
  },
  {
   "cell_type": "markdown",
   "id": "01bfb0a0",
   "metadata": {},
   "source": [
    "Plot the results:"
   ]
  },
  {
   "cell_type": "code",
   "execution_count": 16,
   "id": "b3321314",
   "metadata": {},
   "outputs": [
    {
     "data": {
      "image/png": "[encoded data removed]",
      "text/plain": [
       "<Figure size 576x432 with 1 Axes>"
      ]
     },
     "metadata": {
      "needs_background": "light"
     },
     "output_type": "display_data"
    }
   ],
   "source": [
    "fig = plt.figure(figsize=(8, 6))\n",
    "plt.axvline(x=T0, linewidth=1, linestyle=':', color='black')\n",
    "plt.plot(np.ones(T) * OPTIMAL_REWARD, linewidth=4, linestyle='-', color='black', label='Optimal reward')\n",
    "plt.plot(a0.estimated_reward, linewidth=2, linestyle='-.', label='A0')\n",
    "plt.plot(a1.estimated_reward, linewidth=2, linestyle='--', label='A1')\n",
    "plt.plot(rl.estimated_reward, linewidth=2, linestyle='-', label='RLAPSE')\n",
    "plt.text(x=T0+(T0*0.01), y=plt.ylim()[0]+(plt.ylim()[-1]*0.03),\n",
    "         s=('T0 = {:d}'.format(T0)), ha='right', va='bottom', rotation=90)\n",
    "plt.xlabel('Time')\n",
    "plt.ylabel(\"Average reward\")\n",
    "plt.legend()\n",
    "plt.show()"
   ]
  },
  {
   "cell_type": "markdown",
   "id": "5e6b69ee",
   "metadata": {},
   "source": [
    "It can be observed that both `a1` (Q-learning with $\\gamma=0.9$) and `rl` (RLAPSE) converged to the optimal policy, while algorithm `a0` (Q-learning with $\\gamma=0.0$) is not able to converge."
   ]
  },
  {
   "cell_type": "markdown",
   "id": "7361f15e",
   "metadata": {},
   "source": [
    "### Toy broker example"
   ]
  },
  {
   "cell_type": "markdown",
   "id": "f3b4abef",
   "metadata": {},
   "source": [
    "The description of the broker example can be found [here](https://www.researchgate.net/publication/350087449_Reinforcement_Learning_with_Algorithms_from_Probabilistic_Structure_Estimation)."
   ]
  },
  {
   "cell_type": "code",
   "execution_count": 17,
   "id": "836f3ecf",
   "metadata": {},
   "outputs": [],
   "source": [
    "from rlapse.mdps.mdp import ToyBrokerMDP"
   ]
  },
  {
   "cell_type": "code",
   "execution_count": 18,
   "id": "d14ea3e5",
   "metadata": {},
   "outputs": [],
   "source": [
    "SEED = 32\n",
    "np.random.seed(seed=SEED)"
   ]
  },
  {
   "cell_type": "markdown",
   "id": "41c9fc0e",
   "metadata": {},
   "source": [
    "This will generate an uncontrolled MDP for the toy broker example and validate it:"
   ]
  },
  {
   "cell_type": "code",
   "execution_count": 19,
   "id": "22009659",
   "metadata": {},
   "outputs": [],
   "source": [
    "mdp = ToyBrokerMDP(controlled=False)\n",
    "mdp.validate();"
   ]
  },
  {
   "cell_type": "code",
   "execution_count": 20,
   "id": "b214b748",
   "metadata": {},
   "outputs": [
    {
     "name": "stdout",
     "output_type": "stream",
     "text": [
      "P:\n",
      " [[[0.25 0.25 0.25 0.25]\n",
      "  [0.25 0.25 0.25 0.25]\n",
      "  [0.25 0.25 0.25 0.25]\n",
      "  [0.25 0.25 0.25 0.25]]\n",
      "\n",
      " [[0.25 0.25 0.25 0.25]\n",
      "  [0.25 0.25 0.25 0.25]\n",
      "  [0.25 0.25 0.25 0.25]\n",
      "  [0.25 0.25 0.25 0.25]]]\n",
      "R:\n",
      " [[15.  1.]\n",
      " [ 2.  1.]\n",
      " [15.  1.]\n",
      " [ 2.  1.]]\n"
     ]
    }
   ],
   "source": [
    "print('P:\\n', mdp.P)\n",
    "print('R:\\n', mdp.R)"
   ]
  },
  {
   "cell_type": "code",
   "execution_count": 21,
   "id": "9290ce64",
   "metadata": {},
   "outputs": [],
   "source": [
    "env = mdp.to_env()"
   ]
  },
  {
   "cell_type": "code",
   "execution_count": 22,
   "id": "648f4b5c",
   "metadata": {},
   "outputs": [],
   "source": [
    "env.observation_space.seed(SEED);\n",
    "env.action_space.seed(SEED);"
   ]
  },
  {
   "cell_type": "code",
   "execution_count": 23,
   "id": "3907bd60",
   "metadata": {},
   "outputs": [],
   "source": [
    "T = 500\n",
    "T0 = env.observation_space.n**2 * env.action_space.n"
   ]
  },
  {
   "cell_type": "code",
   "execution_count": 24,
   "id": "ea8a7600",
   "metadata": {},
   "outputs": [],
   "source": [
    "a0 = Qlearner(env, gamma=0.0)         # Q-learning with gamma 0.0\n",
    "a1 = Qlearner(env, gamma=0.9)         # Q-learning with gamma 0.9\n",
    "rl = RLAPSE(env, a0, a1, t_start=T0)  # RLAPSE"
   ]
  },
  {
   "cell_type": "code",
   "execution_count": 25,
   "id": "870a4c8e",
   "metadata": {},
   "outputs": [],
   "source": [
    "a0.learn(total_timesteps=T, store_estimated_reward=True)\n",
    "a1.learn(total_timesteps=T, store_estimated_reward=True)\n",
    "rl.learn(total_timesteps=T, store_estimated_reward=True)"
   ]
  },
  {
   "cell_type": "code",
   "execution_count": 26,
   "id": "f88cf6bd",
   "metadata": {},
   "outputs": [],
   "source": [
    "VI = ValueIteration(R=env.mdp.R, P=env.mdp.P)\n",
    "OPTIMAL_POLICY = VI.policy\n",
    "OPTIMAL_REWARD = expected_reward(R=env.mdp.R, P=env.mdp.P, policy=OPTIMAL_POLICY)"
   ]
  },
  {
   "cell_type": "markdown",
   "id": "430feba1",
   "metadata": {},
   "source": [
    "Plot the results:"
   ]
  },
  {
   "cell_type": "code",
   "execution_count": 27,
   "id": "0f8acd36",
   "metadata": {},
   "outputs": [
    {
     "data": {
      "image/png": "[encoded data removed]",
      "text/plain": [
       "<Figure size 576x432 with 1 Axes>"
      ]
     },
     "metadata": {
      "needs_background": "light"
     },
     "output_type": "display_data"
    }
   ],
   "source": [
    "fig = plt.figure(figsize=(8, 6))\n",
    "plt.axvline(x=T0, linewidth=1, linestyle=':', color='black')\n",
    "plt.plot(np.ones(T) * OPTIMAL_REWARD, linewidth=4, linestyle='-', color='black', label='Optimal reward')\n",
    "plt.plot(a0.estimated_reward, linewidth=2, linestyle='-.', label='A0')\n",
    "plt.plot(a1.estimated_reward, linewidth=2, linestyle='--', label='A1')\n",
    "plt.plot(rl.estimated_reward, linewidth=2, linestyle='-', label='RLAPSE')\n",
    "plt.text(x=T0+(T0*0.01), y=plt.ylim()[0]+(plt.ylim()[-1]*0.03),\n",
    "         s=('T0 = {:d}'.format(T0)), ha='right', va='bottom', rotation=90)\n",
    "plt.xlabel('Time')\n",
    "plt.ylabel(\"Average reward\")\n",
    "plt.legend()\n",
    "plt.show()"
   ]
  },
  {
   "cell_type": "markdown",
   "id": "ea88dee6",
   "metadata": {},
   "source": [
    "We will illustrate how to compute the Type 2 error by using a controlled MDP for the toy broker example."
   ]
  },
  {
   "cell_type": "code",
   "execution_count": 28,
   "id": "154388bf",
   "metadata": {},
   "outputs": [],
   "source": [
    "SEED = 32\n",
    "np.random.seed(seed=SEED)"
   ]
  },
  {
   "cell_type": "code",
   "execution_count": 29,
   "id": "e2149930",
   "metadata": {},
   "outputs": [],
   "source": [
    "T = 700\n",
    "N_RUNS = 10\n",
    "t2err = np.empty(shape=(N_RUNS, T))"
   ]
  },
  {
   "cell_type": "code",
   "execution_count": 30,
   "id": "3f551989",
   "metadata": {},
   "outputs": [
    {
     "name": "stdout",
     "output_type": "stream",
     "text": [
      "Experiment 1 out of 10\n",
      "Experiment 2 out of 10\n",
      "Experiment 3 out of 10\n",
      "Experiment 4 out of 10\n",
      "Experiment 5 out of 10\n",
      "Experiment 6 out of 10\n",
      "Experiment 7 out of 10\n",
      "Experiment 8 out of 10\n",
      "Experiment 9 out of 10\n",
      "Experiment 10 out of 10\n"
     ]
    }
   ],
   "source": [
    "for run in range(N_RUNS):\n",
    "    print('Experiment {} out of {}'.format(run+1, N_RUNS))\n",
    "\n",
    "    # generate a controlled ToyBrokerMDP, and validate it\n",
    "    mdp = ToyBrokerMDP(controlled=True)\n",
    "    mdp.validate()\n",
    "\n",
    "    # time step at which to start the orchestrator\n",
    "    t_start = mdp.n_states * mdp.n_states * mdp.n_actions\n",
    "    \n",
    "    # convert the MDP to Gym environment\n",
    "    env = mdp.to_env()\n",
    "\n",
    "    # for reproducibility\n",
    "    env.observation_space.seed(SEED)\n",
    "    env.action_space.seed(SEED)\n",
    "    \n",
    "    # RL algorithms: Q-learning with gamma 0.0 and 0.9, and RLAPSE\n",
    "    a0 = Qlearner(env, gamma=0.0)\n",
    "    a1 = Qlearner(env, gamma=0.9)\n",
    "    rl = RLAPSE(env, a0, a1, t_start=t_start)\n",
    "    \n",
    "    # learn a policy from the environment;\n",
    "    rl.learn(total_timesteps=T)\n",
    "\n",
    "    t2err[run, :] = rl.used_a0"
   ]
  },
  {
   "cell_type": "markdown",
   "id": "5895822e",
   "metadata": {},
   "source": [
    "Plot the Type 2 error:"
   ]
  },
  {
   "cell_type": "code",
   "execution_count": 31,
   "id": "288233c8",
   "metadata": {},
   "outputs": [
    {
     "data": {
      "image/png": "[encoded data removed]",
      "text/plain": [
       "<Figure size 576x432 with 1 Axes>"
      ]
     },
     "metadata": {
      "needs_background": "light"
     },
     "output_type": "display_data"
    }
   ],
   "source": [
    "fig = plt.figure(figsize=(8, 6))\n",
    "plt.axhline(y=0, linewidth=0.5, linestyle='-.', color='black')\n",
    "plt.axvline(x=t_start, linewidth=1, linestyle=':', color='black')\n",
    "plt.plot(t2err.mean(axis=0), linewidth=2, linestyle='-')\n",
    "plt.text(x=t_start+(t_start*0.01), y=plt.ylim()[0]+(plt.ylim()[-1]*0.07),\n",
    "        s=('T0 = {:d}'.format(t_start)), ha='right', va='bottom', rotation=90)\n",
    "plt.xlabel('Time')\n",
    "plt.ylabel(\"Type 2 error\")\n",
    "plt.show()"
   ]
  },
  {
   "cell_type": "markdown",
   "id": "3f2c5d7d",
   "metadata": {},
   "source": [
    "### Broker example"
   ]
  },
  {
   "cell_type": "markdown",
   "id": "1cdad475",
   "metadata": {},
   "source": [
    "The following can be used to generate random MDPs for the broker example with any number of suppliers and price categories:"
   ]
  },
  {
   "cell_type": "code",
   "execution_count": 32,
   "id": "9bb22e07",
   "metadata": {},
   "outputs": [],
   "source": [
    "from rlapse.mdps.mdp import BrokerMDP"
   ]
  },
  {
   "cell_type": "code",
   "execution_count": 33,
   "id": "cd0fca07",
   "metadata": {},
   "outputs": [],
   "source": [
    "N_SUPPLIERS = 3\n",
    "N_PRICES = 3\n",
    "EPS = 0.4"
   ]
  },
  {
   "cell_type": "code",
   "execution_count": 34,
   "id": "e3a29b40",
   "metadata": {},
   "outputs": [],
   "source": [
    "mdp = BrokerMDP(n_suppliers=N_SUPPLIERS, n_prices=N_PRICES, epsilon=EPS)\n",
    "mdp.validate();"
   ]
  },
  {
   "cell_type": "code",
   "execution_count": 35,
   "id": "b2df2959",
   "metadata": {},
   "outputs": [
    {
     "name": "stdout",
     "output_type": "stream",
     "text": [
      "Discrete(27)\n",
      "Discrete(3)\n"
     ]
    }
   ],
   "source": [
    "env = mdp.to_env()\n",
    "print(env.observation_space)\n",
    "print(env.action_space)"
   ]
  },
  {
   "cell_type": "markdown",
   "id": "3a1b45b5",
   "metadata": {},
   "source": [
    "**NOTE:** the larger number of suppliers and/or price categories will result in large state-action space!"
   ]
  },
  {
   "cell_type": "markdown",
   "id": "6bc0e282",
   "metadata": {},
   "source": [
    "### Random MDPs"
   ]
  },
  {
   "cell_type": "markdown",
   "id": "db52b5e4",
   "metadata": {},
   "source": [
    "Random MDPs can be generated using the `Distribution` wrapper for any of the [NumPy distributions](https://numpy.org/doc/1.16/reference/routines.random.html)."
   ]
  },
  {
   "cell_type": "code",
   "execution_count": 36,
   "id": "30f8607b",
   "metadata": {},
   "outputs": [],
   "source": [
    "from rlapse.utils.distribution import Distribution\n",
    "from rlapse.mdps.mdp import RandomMDP"
   ]
  },
  {
   "cell_type": "code",
   "execution_count": 37,
   "id": "be34e2fa",
   "metadata": {},
   "outputs": [],
   "source": [
    "SEED = 32\n",
    "np.random.seed(seed=SEED)"
   ]
  },
  {
   "cell_type": "markdown",
   "id": "deb2a0ca",
   "metadata": {},
   "source": [
    "Set the number of states $S$ and actions $A$:"
   ]
  },
  {
   "cell_type": "code",
   "execution_count": 38,
   "id": "e38e503b",
   "metadata": {},
   "outputs": [],
   "source": [
    "S, A = 5, 3"
   ]
  },
  {
   "cell_type": "markdown",
   "id": "49230e77",
   "metadata": {},
   "source": [
    "Create distribution (gamma in this example) wrappers for generation of $P$ and $R$:"
   ]
  },
  {
   "cell_type": "code",
   "execution_count": 39,
   "id": "b185112b",
   "metadata": {},
   "outputs": [],
   "source": [
    "P_distribution = Distribution(np.random.gamma, shape=1.0, scale=5.0)\n",
    "R_distribution = Distribution(np.random.gamma, shape=0.1, scale=5.0)"
   ]
  },
  {
   "cell_type": "markdown",
   "id": "048c0d38",
   "metadata": {},
   "source": [
    "#### Generate a random uncontrolled MDP with rank-1 pages, i.e. CMAB: $p(s'|s,a) = \\mu(s')$."
   ]
  },
  {
   "cell_type": "code",
   "execution_count": 44,
   "id": "d3333e0e",
   "metadata": {},
   "outputs": [],
   "source": [
    "mdp = RandomMDP(\n",
    "        n_states=S,\n",
    "        n_actions=A,\n",
    "        controlled=False,\n",
    "        rank1pages=True,\n",
    "        P_distribution=P_distribution,\n",
    "        R_distribution=R_distribution)\n",
    "mdp.validate();"
   ]
  },
  {
   "cell_type": "code",
   "execution_count": 45,
   "id": "5bb403f8",
   "metadata": {},
   "outputs": [
    {
     "name": "stdout",
     "output_type": "stream",
     "text": [
      "p(s'|s,a) = mu(s')\n",
      "P:\n",
      " [[[0.05087584 0.0602167  0.67922509 0.02369583 0.18598654]\n",
      "  [0.05087584 0.0602167  0.67922509 0.02369583 0.18598654]\n",
      "  [0.05087584 0.0602167  0.67922509 0.02369583 0.18598654]\n",
      "  [0.05087584 0.0602167  0.67922509 0.02369583 0.18598654]\n",
      "  [0.05087584 0.0602167  0.67922509 0.02369583 0.18598654]]\n",
      "\n",
      " [[0.05087584 0.0602167  0.67922509 0.02369583 0.18598654]\n",
      "  [0.05087584 0.0602167  0.67922509 0.02369583 0.18598654]\n",
      "  [0.05087584 0.0602167  0.67922509 0.02369583 0.18598654]\n",
      "  [0.05087584 0.0602167  0.67922509 0.02369583 0.18598654]\n",
      "  [0.05087584 0.0602167  0.67922509 0.02369583 0.18598654]]\n",
      "\n",
      " [[0.05087584 0.0602167  0.67922509 0.02369583 0.18598654]\n",
      "  [0.05087584 0.0602167  0.67922509 0.02369583 0.18598654]\n",
      "  [0.05087584 0.0602167  0.67922509 0.02369583 0.18598654]\n",
      "  [0.05087584 0.0602167  0.67922509 0.02369583 0.18598654]\n",
      "  [0.05087584 0.0602167  0.67922509 0.02369583 0.18598654]]]\n"
     ]
    }
   ],
   "source": [
    "print(mdp.prob_distr_repr)\n",
    "print('P:\\n', mdp.P)"
   ]
  },
  {
   "cell_type": "markdown",
   "id": "8245485f",
   "metadata": {},
   "source": [
    "#### Generate a random uncontrolled MDP with no rank-1 pages, $p(s'|s,a) = \\mu(s'|s)$:"
   ]
  },
  {
   "cell_type": "code",
   "execution_count": 48,
   "id": "8d771599",
   "metadata": {},
   "outputs": [],
   "source": [
    "mdp = RandomMDP(\n",
    "        n_states=S,\n",
    "        n_actions=A,\n",
    "        controlled=False,\n",
    "        rank1pages=False,\n",
    "        P_distribution=P_distribution,\n",
    "        R_distribution=R_distribution)\n",
    "mdp.validate();"
   ]
  },
  {
   "cell_type": "code",
   "execution_count": 49,
   "id": "a8d188fc",
   "metadata": {
    "scrolled": true
   },
   "outputs": [
    {
     "name": "stdout",
     "output_type": "stream",
     "text": [
      "p(s'|s,a) = mu(s'|s)\n",
      "P:\n",
      " [[[0.40330584 0.17495216 0.07996826 0.16137625 0.18039749]\n",
      "  [0.05950534 0.05886116 0.44781581 0.3491701  0.0846476 ]\n",
      "  [0.11075894 0.16694914 0.15773419 0.38500037 0.17955736]\n",
      "  [0.0538938  0.66765477 0.13166935 0.02627331 0.12050877]\n",
      "  [0.16396901 0.1311272  0.05490053 0.64849579 0.00150747]]\n",
      "\n",
      " [[0.40330584 0.17495216 0.07996826 0.16137625 0.18039749]\n",
      "  [0.05950534 0.05886116 0.44781581 0.3491701  0.0846476 ]\n",
      "  [0.11075894 0.16694914 0.15773419 0.38500037 0.17955736]\n",
      "  [0.0538938  0.66765477 0.13166935 0.02627331 0.12050877]\n",
      "  [0.16396901 0.1311272  0.05490053 0.64849579 0.00150747]]\n",
      "\n",
      " [[0.40330584 0.17495216 0.07996826 0.16137625 0.18039749]\n",
      "  [0.05950534 0.05886116 0.44781581 0.3491701  0.0846476 ]\n",
      "  [0.11075894 0.16694914 0.15773419 0.38500037 0.17955736]\n",
      "  [0.0538938  0.66765477 0.13166935 0.02627331 0.12050877]\n",
      "  [0.16396901 0.1311272  0.05490053 0.64849579 0.00150747]]]\n"
     ]
    }
   ],
   "source": [
    "print(mdp.prob_distr_repr)\n",
    "print('P:\\n', mdp.P)"
   ]
  },
  {
   "cell_type": "markdown",
   "id": "00670a28",
   "metadata": {},
   "source": [
    "#### Generate a random controlled MDP with rank-1 pages, $p(s'|s,a) = \\mu(s'|a)$:"
   ]
  },
  {
   "cell_type": "code",
   "execution_count": 50,
   "id": "129126ff",
   "metadata": {},
   "outputs": [],
   "source": [
    "mdp = RandomMDP(\n",
    "        n_states=S,\n",
    "        n_actions=A,\n",
    "        controlled=True,\n",
    "        rank1pages=True,\n",
    "        P_distribution=P_distribution,\n",
    "        R_distribution=R_distribution)\n",
    "mdp.validate();"
   ]
  },
  {
   "cell_type": "code",
   "execution_count": 51,
   "id": "11df9273",
   "metadata": {
    "scrolled": true
   },
   "outputs": [
    {
     "name": "stdout",
     "output_type": "stream",
     "text": [
      "p(s'|s,a) = mu(s'|a)\n",
      "P:\n",
      " [[[0.18893238 0.21510173 0.13304055 0.29112184 0.17180351]\n",
      "  [0.18893238 0.21510173 0.13304055 0.29112184 0.17180351]\n",
      "  [0.18893238 0.21510173 0.13304055 0.29112184 0.17180351]\n",
      "  [0.18893238 0.21510173 0.13304055 0.29112184 0.17180351]\n",
      "  [0.18893238 0.21510173 0.13304055 0.29112184 0.17180351]]\n",
      "\n",
      " [[0.40468915 0.04523424 0.00866699 0.13438945 0.40702016]\n",
      "  [0.40468915 0.04523424 0.00866699 0.13438945 0.40702016]\n",
      "  [0.40468915 0.04523424 0.00866699 0.13438945 0.40702016]\n",
      "  [0.40468915 0.04523424 0.00866699 0.13438945 0.40702016]\n",
      "  [0.40468915 0.04523424 0.00866699 0.13438945 0.40702016]]\n",
      "\n",
      " [[0.11639592 0.65719542 0.00329263 0.01594972 0.2071663 ]\n",
      "  [0.11639592 0.65719542 0.00329263 0.01594972 0.2071663 ]\n",
      "  [0.11639592 0.65719542 0.00329263 0.01594972 0.2071663 ]\n",
      "  [0.11639592 0.65719542 0.00329263 0.01594972 0.2071663 ]\n",
      "  [0.11639592 0.65719542 0.00329263 0.01594972 0.2071663 ]]]\n"
     ]
    }
   ],
   "source": [
    "print(mdp.prob_distr_repr)\n",
    "print('P:\\n', mdp.P)"
   ]
  },
  {
   "cell_type": "markdown",
   "id": "a52373d0",
   "metadata": {},
   "source": [
    "#### Generate a random controlled MDP with no rank-1 pages, $p(s'|s,a) = \\mu(s'|s, a)$. This is the most general case."
   ]
  },
  {
   "cell_type": "code",
   "execution_count": 52,
   "id": "627471aa",
   "metadata": {},
   "outputs": [],
   "source": [
    "mdp = RandomMDP(\n",
    "        n_states=S,\n",
    "        n_actions=A,\n",
    "        controlled=True,\n",
    "        rank1pages=False,\n",
    "        P_distribution=P_distribution,\n",
    "        R_distribution=R_distribution)\n",
    "mdp.validate();"
   ]
  },
  {
   "cell_type": "code",
   "execution_count": 53,
   "id": "6c8b8b8c",
   "metadata": {},
   "outputs": [
    {
     "name": "stdout",
     "output_type": "stream",
     "text": [
      "p(s'|s,a) = mu(s'|s,a)\n",
      "P:\n",
      " [[[0.05874856 0.13685573 0.35284132 0.36812911 0.08342527]\n",
      "  [0.32559634 0.18465544 0.3642591  0.04769215 0.07779697]\n",
      "  [0.4897408  0.14719176 0.04889148 0.10143662 0.21273932]\n",
      "  [0.15637264 0.10259934 0.03572662 0.27741622 0.42788519]\n",
      "  [0.18957434 0.56577231 0.1684266  0.04384279 0.03238396]]\n",
      "\n",
      " [[0.14820488 0.18840786 0.26776668 0.2135793  0.18204129]\n",
      "  [0.0399581  0.25410405 0.25474054 0.31573865 0.13545866]\n",
      "  [0.31633135 0.00251051 0.1344105  0.4003497  0.14639794]\n",
      "  [0.56378592 0.16931887 0.07587611 0.19002523 0.00099386]\n",
      "  [0.09747778 0.07578129 0.00334301 0.07087665 0.75252126]]\n",
      "\n",
      " [[0.32593764 0.07719297 0.10277326 0.18034889 0.31374724]\n",
      "  [0.11352483 0.00965092 0.54982172 0.15986964 0.16713289]\n",
      "  [0.31596592 0.12901854 0.21992217 0.23668496 0.09840841]\n",
      "  [0.57494569 0.1184701  0.13926939 0.00848369 0.15883113]\n",
      "  [0.08308806 0.15563438 0.24020696 0.28538141 0.23568918]]]\n"
     ]
    }
   ],
   "source": [
    "print(mdp.prob_distr_repr)\n",
    "print('P:\\n', mdp.P)"
   ]
  },
  {
   "cell_type": "markdown",
   "id": "97b9f1f3",
   "metadata": {},
   "source": [
    "### Generate MDPs from $P$ and $R$"
   ]
  },
  {
   "cell_type": "code",
   "execution_count": 76,
   "id": "114c4986",
   "metadata": {},
   "outputs": [],
   "source": [
    "from rlapse.mdps.mdp import MDP"
   ]
  },
  {
   "cell_type": "code",
   "execution_count": 81,
   "id": "a0d2ce50",
   "metadata": {},
   "outputs": [],
   "source": [
    "S, A = 2, 2\n",
    "P = np.ones(shape=(A, S, S)) / S\n",
    "R = np.random.uniform(size=(S, A))"
   ]
  },
  {
   "cell_type": "code",
   "execution_count": 82,
   "id": "6e066f34",
   "metadata": {},
   "outputs": [],
   "source": [
    "mdp = MDP(n_states=S, n_actions=A, P=P, R=R)\n",
    "mdp.validate();"
   ]
  },
  {
   "cell_type": "code",
   "execution_count": 83,
   "id": "3a45d080",
   "metadata": {
    "scrolled": true
   },
   "outputs": [
    {
     "name": "stdout",
     "output_type": "stream",
     "text": [
      "P:\n",
      " [[[0.5 0.5]\n",
      "  [0.5 0.5]]\n",
      "\n",
      " [[0.5 0.5]\n",
      "  [0.5 0.5]]]\n",
      "R:\n",
      " [[0.60910917 0.59655344]\n",
      " [0.09178413 0.34518624]]\n"
     ]
    }
   ],
   "source": [
    "print('P:\\n', mdp.P)\n",
    "print('R:\\n', mdp.R)"
   ]
  },
  {
   "cell_type": "code",
   "execution_count": 84,
   "id": "c135ecea",
   "metadata": {},
   "outputs": [
    {
     "data": {
      "application/vnd.jupyter.widget-view+json": {
       "model_id": "29590855891c4eaebddecfae7ab0b894",
       "version_major": 2,
       "version_minor": 0
      },
      "text/plain": [
       "Image(value=b'')"
      ]
     },
     "metadata": {},
     "output_type": "display_data"
    }
   ],
   "source": [
    "env = mdp.to_env()\n",
    "env.render()"
   ]
  }
 ],
 "metadata": {
  "kernelspec": {
   "display_name": "Python 3",
   "language": "python",
   "name": "python3"
  },
  "language_info": {
   "codemirror_mode": {
    "name": "ipython",
    "version": 3
   },
   "file_extension": ".py",
   "mimetype": "text/x-python",
   "name": "python",
   "nbconvert_exporter": "python",
   "pygments_lexer": "ipython3",
   "version": "3.6.13"
  }
 },
 "nbformat": 4,
 "nbformat_minor": 5
}
